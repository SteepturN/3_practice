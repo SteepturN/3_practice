{
 "cells": [
  {
   "cell_type": "markdown",
   "id": "e75c4c9b",
   "metadata": {
    "id": "e75c4c9b"
   },
   "source": [
    "# Домашнее задание. Pandas"
   ]
  },
  {
   "cell_type": "code",
   "execution_count": 2,
   "id": "1d065fc9",
   "metadata": {
    "colab": {
     "base_uri": "https://localhost:8080/",
     "height": 597
    },
    "id": "1d065fc9",
    "outputId": "7bb15e93-2bec-4893-8b80-f0b0840b4ffb"
   },
   "outputs": [],
   "source": [
    "import pandas as pd\n",
    "df = pd.read_csv('data/TSLA.csv');"
   ]
  },
  {
   "cell_type": "markdown",
   "id": "501df3a1",
   "metadata": {},
   "source": [
    "1. Вывести все колонки из DataFrame"
   ]
  },
  {
   "cell_type": "code",
   "execution_count": null,
   "id": "b76abff4",
   "metadata": {},
   "outputs": [],
   "source": [
    "# Начните писать код тут"
   ]
  },
  {
   "cell_type": "markdown",
   "id": "3ad302dd",
   "metadata": {},
   "source": [
    "2. Посчитать среднюю цену закрытия акций Tesla, в периуд с открытия по 10.01.2012"
   ]
  },
  {
   "cell_type": "code",
   "execution_count": null,
   "id": "09b0e91d",
   "metadata": {},
   "outputs": [],
   "source": [
    "# Начните писать код тут"
   ]
  },
  {
   "cell_type": "markdown",
   "id": "37704104",
   "metadata": {},
   "source": [
    "3. Вывести график цены закрытия "
   ]
  },
  {
   "cell_type": "code",
   "execution_count": null,
   "id": "f421d158",
   "metadata": {},
   "outputs": [],
   "source": [
    "# Начните писать код тут"
   ]
  },
  {
   "cell_type": "markdown",
   "id": "c77bf13b",
   "metadata": {},
   "source": [
    "4. Нормализация \n",
    "\n",
    "Сейчас вы научитесь нормализовывать данные. Но сначала я объясню, зачем. <br>\n",
    "\n",
    "Алгоритмы машинного обучения, как правило, работают лучше или сходятся быстрее, когда различные функции (переменные) имеют меньший масштаб. Поэтому перед обучением на них моделей машинного обучения данные обычно нормализуются.\n",
    "\n",
    "Нормализация также делает процесс обучения менее чувствительным к масштабу функций. Это приводит к улучшению коэффициентов после тренировки.\n",
    "\n",
    "Этот процесс повышения пригодности функций для обучения путем изменения масштаба называется масштабированием функций.\n",
    "\n",
    "Вот формула, которую часто применяют для нормализации значений одного столбца:\n",
    "$$ x_{norm} = \\frac{x - x_{min}}{x_{max} - x_{min}}, $$\n",
    "где, понятное дело x - значение в конкретной строке выбранного столбца, xmax - максимальное значение этого столбца, а xmin - минимальное значение этого столбца.\n",
    "\n",
    "Примените эту формулу к столбцу Open (используйте метод apply)."
   ]
  },
  {
   "cell_type": "code",
   "execution_count": null,
   "id": "7e23d7e5",
   "metadata": {},
   "outputs": [],
   "source": [
    "# Начните писать код тут"
   ]
  },
  {
   "cell_type": "markdown",
   "id": "c5843e04",
   "metadata": {},
   "source": [
    "5. Что такое SMA (Simple Moving Average) с окном 12,15,30. \n",
    "Можно посмотреть внешние решения: \n",
    "- https://www.pythonpool.com/moving-average-python/   \n",
    "- https://mrjbq7.github.io/ta-lib/"
   ]
  },
  {
   "cell_type": "code",
   "execution_count": null,
   "id": "335d37f6",
   "metadata": {},
   "outputs": [],
   "source": [
    "# Начните писать код тут"
   ]
  },
  {
   "cell_type": "markdown",
   "id": "7d9e1927",
   "metadata": {},
   "source": [
    "6. Построить график с ценой закрытия и посчитаным SMA 12,15,30"
   ]
  },
  {
   "cell_type": "code",
   "execution_count": null,
   "id": "60d8d2ff",
   "metadata": {},
   "outputs": [],
   "source": [
    "# Начните писать код тут"
   ]
  },
  {
   "cell_type": "markdown",
   "id": "224980ab",
   "metadata": {},
   "source": [
    "7. Посмотрите на график и подумайте, о чем говорит SMA. Когда стоит начать покупать/продавать акции Tesla?"
   ]
  },
  {
   "cell_type": "markdown",
   "id": "e1ca331e",
   "metadata": {},
   "source": [
    "Начните пояснение тут"
   ]
  }
 ],
 "metadata": {
  "colab": {
   "collapsed_sections": [
    "36396f4c"
   ],
   "name": "Pandas_1.ipynb",
   "provenance": []
  },
  "kernelspec": {
   "display_name": "Python 3",
   "language": "python",
   "name": "python3"
  },
  "language_info": {
   "codemirror_mode": {
    "name": "ipython",
    "version": 3
   },
   "file_extension": ".py",
   "mimetype": "text/x-python",
   "name": "python",
   "nbconvert_exporter": "python",
   "pygments_lexer": "ipython3",
   "version": "3.10.2"
  }
 },
 "nbformat": 4,
 "nbformat_minor": 5
}
